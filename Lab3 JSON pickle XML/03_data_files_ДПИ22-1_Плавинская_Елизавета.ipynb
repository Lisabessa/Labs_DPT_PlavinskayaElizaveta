{
 "cells": [
  {
   "cell_type": "markdown",
   "metadata": {},
   "source": [
    "# Форматы данных (1)"
   ]
  },
  {
   "cell_type": "markdown",
   "metadata": {},
   "source": [
    "Материалы:\n",
    "* Макрушин С.В. \"Лекция 4: Форматы данных\"\n",
    "* https://docs.python.org/3/library/json.html\n",
    "* https://docs.python.org/3/library/pickle.html\n",
    "* https://www.crummy.com/software/BeautifulSoup/bs4/doc.ru/bs4ru.html\n",
    "* Уэс Маккини. Python и анализ данных"
   ]
  },
  {
   "cell_type": "markdown",
   "metadata": {},
   "source": [
    "## Задачи для разбора"
   ]
  },
  {
   "cell_type": "markdown",
   "metadata": {},
   "source": [
    "1. Вывести все адреса электронной почты, содержащиеся в адресной книге `addres-book.json`"
   ]
  },
  {
   "cell_type": "code",
   "execution_count": 1,
   "metadata": {},
   "outputs": [
    {
     "name": "stdout",
     "output_type": "stream",
     "text": [
      "faina@mail.ru\n",
      "robert@mail.ru\n"
     ]
    }
   ],
   "source": [
    "import json\n",
    "\n",
    "with open('addres-book.json', mode = 'r', encoding = 'utf-8') as f:\n",
    "    contacts = json.load(f)\n",
    "    for contact in contacts:\n",
    "        if 'email' in contact:\n",
    "            print(contact['email'])"
   ]
  },
  {
   "cell_type": "markdown",
   "metadata": {},
   "source": [
    "2. Вывести телефоны, содержащиеся в адресной книге `addres-book.json`"
   ]
  },
  {
   "cell_type": "code",
   "execution_count": 2,
   "metadata": {},
   "outputs": [
    {
     "name": "stdout",
     "output_type": "stream",
     "text": [
      "232-19-55\n",
      "+7 (916) 232-19-55\n",
      "111-19-55\n",
      "+7 (916) 445-19-55\n"
     ]
    }
   ],
   "source": [
    "with open('addres-book.json', mode = 'r', encoding = 'utf-8') as f:\n",
    "    contacts = json.load(f)\n",
    "    for contact in contacts:\n",
    "        if 'phones' in contact:\n",
    "            for phone in contact['phones']:\n",
    "                print(phone['phone'])"
   ]
  },
  {
   "cell_type": "markdown",
   "metadata": {},
   "source": [
    "3. По данным из файла `addres-book-q.xml` сформировать список словарей с телефонами каждого из людей. "
   ]
  },
  {
   "cell_type": "code",
   "execution_count": null,
   "metadata": {},
   "outputs": [],
   "source": []
  },
  {
   "cell_type": "markdown",
   "metadata": {},
   "source": [
    "## Лабораторная работа №4"
   ]
  },
  {
   "cell_type": "markdown",
   "metadata": {},
   "source": [
    "### JSON"
   ]
  },
  {
   "cell_type": "markdown",
   "metadata": {},
   "source": [
    "1.1 Считайте файл `contributors_sample.json`. Воспользовавшись модулем `json`, преобразуйте содержимое файла в соответствующие объекты python. Выведите на экран информацию о первых 3 пользователях."
   ]
  },
  {
   "cell_type": "code",
   "execution_count": 3,
   "metadata": {},
   "outputs": [
    {
     "name": "stdout",
     "output_type": "stream",
     "text": [
      "username: uhebert\n",
      "name: Lindsey Nguyen\n",
      "sex: F\n",
      "address: 01261 Cameron Spring\n",
      "Taylorfurt, AK 97791\n",
      "mail: jsalazar@gmail.com\n",
      "jobs: ['Energy engineer', 'Engineer, site', 'Environmental health practitioner', 'Biomedical scientist', 'Jewellery designer']\n",
      "id: 35193\n",
      "\n",
      "username: vickitaylor\n",
      "name: Cheryl Lewis\n",
      "sex: F\n",
      "address: 66992 Welch Brooks\n",
      "Marshallshire, ID 56004\n",
      "mail: bhudson@gmail.com\n",
      "jobs: ['Music therapist', 'Volunteer coordinator', 'Designer, interior/spatial']\n",
      "id: 91970\n",
      "\n",
      "username: sheilaadams\n",
      "name: Julia Allen\n",
      "sex: F\n",
      "address: Unit 1632 Box 2971\n",
      "DPO AE 23297\n",
      "mail: darren44@yahoo.com\n",
      "jobs: ['Management consultant', 'Engineer, structural', 'Lecturer, higher education', 'Theatre manager', 'Designer, textile']\n",
      "id: 1848091\n",
      "\n"
     ]
    }
   ],
   "source": [
    "import json\n",
    "\n",
    "file = open('contributors_sample.json', mode = 'r', encoding = 'utf-8')\n",
    "contributors = json.load(file)\n",
    "for i in range(3):\n",
    "    for key in contributors[i]:\n",
    "        print('{0}: {1}'.format(key, contributors[i][key]))\n",
    "    print()"
   ]
  },
  {
   "cell_type": "markdown",
   "metadata": {},
   "source": [
    "1.2 Выведите уникальные почтовые домены, содержащиеся в почтовых адресах людей"
   ]
  },
  {
   "cell_type": "code",
   "execution_count": 11,
   "metadata": {},
   "outputs": [
    {
     "name": "stdout",
     "output_type": "stream",
     "text": [
      "{'gmail.com': 8592, 'yahoo.com': 8142, 'hotmail.com': 8466}\n"
     ]
    }
   ],
   "source": [
    "for contributor in contributors:\n",
    "    domain = contributor['mail'].split('@')[1]\n",
    "    domains[domain] = domains.get(domain, 0) + 1\n",
    "print(domains)"
   ]
  },
  {
   "cell_type": "markdown",
   "metadata": {},
   "source": [
    "1.3 Напишите функцию, которая по `username` ищет человека и выводит информацию о нем. Если пользователь с заданным `username` отсутствует, возбудите исключение `ValueError`"
   ]
  },
  {
   "cell_type": "code",
   "execution_count": 12,
   "metadata": {},
   "outputs": [
    {
     "name": "stdout",
     "output_type": "stream",
     "text": [
      "username: jean67\n",
      "name: Nicholas Harrington\n",
      "sex: M\n",
      "address: 9080 Monica Crescent Suite 820\n",
      "North Deanbury, HI 28977\n",
      "mail: denise42@gmail.com\n",
      "jobs: ['Network engineer', 'Youth worker', 'Primary school teacher', 'Engineer, broadcasting (operations)']\n",
      "id: 676820\n"
     ]
    },
    {
     "ename": "ValueError",
     "evalue": "",
     "output_type": "error",
     "traceback": [
      "\u001b[1;31m---------------------------------------------------------------------------\u001b[0m",
      "\u001b[1;31mValueError\u001b[0m                                Traceback (most recent call last)",
      "\u001b[1;32m<ipython-input-12-39d0f7077e69>\u001b[0m in \u001b[0;36m<module>\u001b[1;34m\u001b[0m\n\u001b[0;32m     10\u001b[0m \u001b[1;33m\u001b[0m\u001b[0m\n\u001b[0;32m     11\u001b[0m \u001b[0msearch_user\u001b[0m\u001b[1;33m(\u001b[0m\u001b[1;34m'jean67'\u001b[0m\u001b[1;33m,\u001b[0m \u001b[0mcontributors\u001b[0m\u001b[1;33m)\u001b[0m\u001b[1;33m\u001b[0m\u001b[1;33m\u001b[0m\u001b[0m\n\u001b[1;32m---> 12\u001b[1;33m \u001b[0msearch_user\u001b[0m\u001b[1;33m(\u001b[0m\u001b[1;34m'sanek23'\u001b[0m\u001b[1;33m,\u001b[0m \u001b[0mcontributors\u001b[0m\u001b[1;33m)\u001b[0m\u001b[1;33m\u001b[0m\u001b[1;33m\u001b[0m\u001b[0m\n\u001b[0m",
      "\u001b[1;32m<ipython-input-12-39d0f7077e69>\u001b[0m in \u001b[0;36msearch_user\u001b[1;34m(username, contributors)\u001b[0m\n\u001b[0;32m      7\u001b[0m             \u001b[0mfind\u001b[0m \u001b[1;33m=\u001b[0m \u001b[1;36m1\u001b[0m\u001b[1;33m\u001b[0m\u001b[1;33m\u001b[0m\u001b[0m\n\u001b[0;32m      8\u001b[0m     \u001b[1;32mif\u001b[0m \u001b[0mfind\u001b[0m \u001b[1;33m==\u001b[0m \u001b[1;36m0\u001b[0m\u001b[1;33m:\u001b[0m\u001b[1;33m\u001b[0m\u001b[1;33m\u001b[0m\u001b[0m\n\u001b[1;32m----> 9\u001b[1;33m         \u001b[1;32mraise\u001b[0m\u001b[1;33m(\u001b[0m\u001b[0mValueError\u001b[0m\u001b[1;33m)\u001b[0m\u001b[1;33m\u001b[0m\u001b[1;33m\u001b[0m\u001b[0m\n\u001b[0m\u001b[0;32m     10\u001b[0m \u001b[1;33m\u001b[0m\u001b[0m\n\u001b[0;32m     11\u001b[0m \u001b[0msearch_user\u001b[0m\u001b[1;33m(\u001b[0m\u001b[1;34m'jean67'\u001b[0m\u001b[1;33m,\u001b[0m \u001b[0mcontributors\u001b[0m\u001b[1;33m)\u001b[0m\u001b[1;33m\u001b[0m\u001b[1;33m\u001b[0m\u001b[0m\n",
      "\u001b[1;31mValueError\u001b[0m: "
     ]
    }
   ],
   "source": [
    "def search_user(username, contributors):\n",
    "    find = 0\n",
    "    for contributor in contributors:\n",
    "        if contributor['username'] == username:\n",
    "            for key in contributor:\n",
    "                print('{0}: {1}'.format(key, contributor[key]))\n",
    "            find = 1\n",
    "    if find == 0:\n",
    "        raise(ValueError)\n",
    "\n",
    "search_user('jean67', contributors)\n",
    "search_user('sanek23', contributors)"
   ]
  },
  {
   "cell_type": "markdown",
   "metadata": {},
   "source": [
    "1.4 Посчитайте, сколько мужчин и женщин присутсвует в этом наборе данных."
   ]
  },
  {
   "cell_type": "code",
   "execution_count": 15,
   "metadata": {},
   "outputs": [
    {
     "name": "stdout",
     "output_type": "stream",
     "text": [
      "Females: 2136   Males: 2064\n"
     ]
    }
   ],
   "source": [
    "males, females = 0, 0\n",
    "for contributor in contributors:\n",
    "    if contributor['sex'] == 'M':\n",
    "        males += 1\n",
    "    else:\n",
    "        females += 1\n",
    "print('Females: {0}   Males: {1}'.format(females, males))"
   ]
  },
  {
   "cell_type": "markdown",
   "metadata": {},
   "source": [
    "1.5 Создайте `pd.DataFrame` `contributors`, имеющий столбцы `id`, `username` и `sex`."
   ]
  },
  {
   "cell_type": "code",
   "execution_count": 18,
   "metadata": {},
   "outputs": [
    {
     "data": {
      "text/html": [
       "<div>\n",
       "<style scoped>\n",
       "    .dataframe tbody tr th:only-of-type {\n",
       "        vertical-align: middle;\n",
       "    }\n",
       "\n",
       "    .dataframe tbody tr th {\n",
       "        vertical-align: top;\n",
       "    }\n",
       "\n",
       "    .dataframe thead th {\n",
       "        text-align: right;\n",
       "    }\n",
       "</style>\n",
       "<table border=\"1\" class=\"dataframe\">\n",
       "  <thead>\n",
       "    <tr style=\"text-align: right;\">\n",
       "      <th></th>\n",
       "      <th>id</th>\n",
       "      <th>username</th>\n",
       "      <th>sex</th>\n",
       "    </tr>\n",
       "  </thead>\n",
       "  <tbody>\n",
       "    <tr>\n",
       "      <th>0</th>\n",
       "      <td>35193</td>\n",
       "      <td>uhebert</td>\n",
       "      <td>F</td>\n",
       "    </tr>\n",
       "    <tr>\n",
       "      <th>1</th>\n",
       "      <td>91970</td>\n",
       "      <td>vickitaylor</td>\n",
       "      <td>F</td>\n",
       "    </tr>\n",
       "    <tr>\n",
       "      <th>2</th>\n",
       "      <td>1848091</td>\n",
       "      <td>sheilaadams</td>\n",
       "      <td>F</td>\n",
       "    </tr>\n",
       "    <tr>\n",
       "      <th>3</th>\n",
       "      <td>50969</td>\n",
       "      <td>nicole82</td>\n",
       "      <td>F</td>\n",
       "    </tr>\n",
       "    <tr>\n",
       "      <th>4</th>\n",
       "      <td>676820</td>\n",
       "      <td>jean67</td>\n",
       "      <td>M</td>\n",
       "    </tr>\n",
       "    <tr>\n",
       "      <th>...</th>\n",
       "      <td>...</td>\n",
       "      <td>...</td>\n",
       "      <td>...</td>\n",
       "    </tr>\n",
       "    <tr>\n",
       "      <th>4195</th>\n",
       "      <td>423555</td>\n",
       "      <td>stevenspencer</td>\n",
       "      <td>F</td>\n",
       "    </tr>\n",
       "    <tr>\n",
       "      <th>4196</th>\n",
       "      <td>35251</td>\n",
       "      <td>rwilliams</td>\n",
       "      <td>M</td>\n",
       "    </tr>\n",
       "    <tr>\n",
       "      <th>4197</th>\n",
       "      <td>135887</td>\n",
       "      <td>lmartinez</td>\n",
       "      <td>F</td>\n",
       "    </tr>\n",
       "    <tr>\n",
       "      <th>4198</th>\n",
       "      <td>212714</td>\n",
       "      <td>brendahill</td>\n",
       "      <td>M</td>\n",
       "    </tr>\n",
       "    <tr>\n",
       "      <th>4199</th>\n",
       "      <td>344321</td>\n",
       "      <td>mistyray</td>\n",
       "      <td>F</td>\n",
       "    </tr>\n",
       "  </tbody>\n",
       "</table>\n",
       "<p>4200 rows × 3 columns</p>\n",
       "</div>"
      ],
      "text/plain": [
       "           id       username sex\n",
       "0       35193        uhebert   F\n",
       "1       91970    vickitaylor   F\n",
       "2     1848091    sheilaadams   F\n",
       "3       50969       nicole82   F\n",
       "4      676820         jean67   M\n",
       "...       ...            ...  ..\n",
       "4195   423555  stevenspencer   F\n",
       "4196    35251      rwilliams   M\n",
       "4197   135887      lmartinez   F\n",
       "4198   212714     brendahill   M\n",
       "4199   344321       mistyray   F\n",
       "\n",
       "[4200 rows x 3 columns]"
      ]
     },
     "execution_count": 18,
     "metadata": {},
     "output_type": "execute_result"
    }
   ],
   "source": [
    "import pandas as pd\n",
    "\n",
    "contributors_df = pd.DataFrame(contributors, columns = [\"id\", \"username\", \"sex\"])\n",
    "contributors_df"
   ]
  },
  {
   "cell_type": "markdown",
   "metadata": {},
   "source": [
    "1.6 Загрузите данные из файла `recipes_sample.csv` (__ЛР2__) в таблицу `recipes`. Объедините `recipes` с таблицей `contributors` с сохранением строк в том случае, если информация о человеке присутствует\n",
    "в JSON-файле. Для скольких человек информация отсутствует? "
   ]
  },
  {
   "cell_type": "code",
   "execution_count": 35,
   "metadata": {},
   "outputs": [
    {
     "name": "stdout",
     "output_type": "stream",
     "text": [
      "Information missing for 15059 people\n"
     ]
    },
    {
     "data": {
      "text/html": [
       "<div>\n",
       "<style scoped>\n",
       "    .dataframe tbody tr th:only-of-type {\n",
       "        vertical-align: middle;\n",
       "    }\n",
       "\n",
       "    .dataframe tbody tr th {\n",
       "        vertical-align: top;\n",
       "    }\n",
       "\n",
       "    .dataframe thead th {\n",
       "        text-align: right;\n",
       "    }\n",
       "</style>\n",
       "<table border=\"1\" class=\"dataframe\">\n",
       "  <thead>\n",
       "    <tr style=\"text-align: right;\">\n",
       "      <th></th>\n",
       "      <th>name</th>\n",
       "      <th>minutes</th>\n",
       "      <th>submitted</th>\n",
       "      <th>n_steps</th>\n",
       "      <th>description</th>\n",
       "      <th>n_ingredients</th>\n",
       "      <th>username</th>\n",
       "      <th>sex</th>\n",
       "      <th>contributor_id</th>\n",
       "    </tr>\n",
       "    <tr>\n",
       "      <th>id</th>\n",
       "      <th></th>\n",
       "      <th></th>\n",
       "      <th></th>\n",
       "      <th></th>\n",
       "      <th></th>\n",
       "      <th></th>\n",
       "      <th></th>\n",
       "      <th></th>\n",
       "      <th></th>\n",
       "    </tr>\n",
       "  </thead>\n",
       "  <tbody>\n",
       "    <tr>\n",
       "      <th>118667</th>\n",
       "      <td>almond rhubarb coffee cake</td>\n",
       "      <td>63</td>\n",
       "      <td>2005-04-22</td>\n",
       "      <td>10.0</td>\n",
       "      <td>from my collection of recipes. haven't tried i...</td>\n",
       "      <td>12.0</td>\n",
       "      <td>laura16</td>\n",
       "      <td>M</td>\n",
       "      <td>1535</td>\n",
       "    </tr>\n",
       "    <tr>\n",
       "      <th>140850</th>\n",
       "      <td>apple squares or apple coffee cake</td>\n",
       "      <td>70</td>\n",
       "      <td>2005-10-10</td>\n",
       "      <td>NaN</td>\n",
       "      <td>a neighbor brought these over as a thank-you g...</td>\n",
       "      <td>10.0</td>\n",
       "      <td>laura16</td>\n",
       "      <td>M</td>\n",
       "      <td>1535</td>\n",
       "    </tr>\n",
       "    <tr>\n",
       "      <th>91938</th>\n",
       "      <td>aunt gin s vegetable soup  crock pot</td>\n",
       "      <td>510</td>\n",
       "      <td>2004-05-26</td>\n",
       "      <td>6.0</td>\n",
       "      <td>my husband's great aunt make this for him all ...</td>\n",
       "      <td>NaN</td>\n",
       "      <td>laura16</td>\n",
       "      <td>M</td>\n",
       "      <td>1535</td>\n",
       "    </tr>\n",
       "    <tr>\n",
       "      <th>100626</th>\n",
       "      <td>bbq pulled pork sandwiches</td>\n",
       "      <td>630</td>\n",
       "      <td>2004-09-27</td>\n",
       "      <td>6.0</td>\n",
       "      <td>this meal is one we always eat too much of. i ...</td>\n",
       "      <td>5.0</td>\n",
       "      <td>laura16</td>\n",
       "      <td>M</td>\n",
       "      <td>1535</td>\n",
       "    </tr>\n",
       "    <tr>\n",
       "      <th>104662</th>\n",
       "      <td>brewed orange cinnamon coffee</td>\n",
       "      <td>5</td>\n",
       "      <td>2004-11-23</td>\n",
       "      <td>8.0</td>\n",
       "      <td>i've had this recipe for at least 8 years. it ...</td>\n",
       "      <td>NaN</td>\n",
       "      <td>laura16</td>\n",
       "      <td>M</td>\n",
       "      <td>1535</td>\n",
       "    </tr>\n",
       "    <tr>\n",
       "      <th>...</th>\n",
       "      <td>...</td>\n",
       "      <td>...</td>\n",
       "      <td>...</td>\n",
       "      <td>...</td>\n",
       "      <td>...</td>\n",
       "      <td>...</td>\n",
       "      <td>...</td>\n",
       "      <td>...</td>\n",
       "      <td>...</td>\n",
       "    </tr>\n",
       "    <tr>\n",
       "      <th>534786</th>\n",
       "      <td>white bean and chicken chili</td>\n",
       "      <td>50</td>\n",
       "      <td>2018-01-02</td>\n",
       "      <td>NaN</td>\n",
       "      <td>most recipes for white bean and chicken chilie...</td>\n",
       "      <td>11.0</td>\n",
       "      <td>fcline</td>\n",
       "      <td>F</td>\n",
       "      <td>2001896867</td>\n",
       "    </tr>\n",
       "    <tr>\n",
       "      <th>535104</th>\n",
       "      <td>fruit loop treats</td>\n",
       "      <td>15</td>\n",
       "      <td>2018-02-06</td>\n",
       "      <td>NaN</td>\n",
       "      <td>fruity, slightly elevated, ridiculously easy a...</td>\n",
       "      <td>NaN</td>\n",
       "      <td>ugutierrez</td>\n",
       "      <td>M</td>\n",
       "      <td>2001968497</td>\n",
       "    </tr>\n",
       "    <tr>\n",
       "      <th>535650</th>\n",
       "      <td>mexican style pickled vegetables</td>\n",
       "      <td>210</td>\n",
       "      <td>2018-04-19</td>\n",
       "      <td>NaN</td>\n",
       "      <td>spicy chiles and sweet carrots make these pick...</td>\n",
       "      <td>13.0</td>\n",
       "      <td>ugutierrez</td>\n",
       "      <td>M</td>\n",
       "      <td>2001968497</td>\n",
       "    </tr>\n",
       "    <tr>\n",
       "      <th>535389</th>\n",
       "      <td>vietnamese chicken</td>\n",
       "      <td>50</td>\n",
       "      <td>2018-03-20</td>\n",
       "      <td>10.0</td>\n",
       "      <td>vietnamese chicken with ginger.</td>\n",
       "      <td>11.0</td>\n",
       "      <td>anthony87</td>\n",
       "      <td>M</td>\n",
       "      <td>2002059754</td>\n",
       "    </tr>\n",
       "    <tr>\n",
       "      <th>536747</th>\n",
       "      <td>lemon pom pom cake</td>\n",
       "      <td>210</td>\n",
       "      <td>2018-08-15</td>\n",
       "      <td>51.0</td>\n",
       "      <td>by far one of my most joyous cake creations, t...</td>\n",
       "      <td>20.0</td>\n",
       "      <td>martin01</td>\n",
       "      <td>F</td>\n",
       "      <td>2002247884</td>\n",
       "    </tr>\n",
       "  </tbody>\n",
       "</table>\n",
       "<p>14941 rows × 9 columns</p>\n",
       "</div>"
      ],
      "text/plain": [
       "                                        name  minutes   submitted  n_steps  \\\n",
       "id                                                                           \n",
       "118667            almond rhubarb coffee cake       63  2005-04-22     10.0   \n",
       "140850    apple squares or apple coffee cake       70  2005-10-10      NaN   \n",
       "91938   aunt gin s vegetable soup  crock pot      510  2004-05-26      6.0   \n",
       "100626            bbq pulled pork sandwiches      630  2004-09-27      6.0   \n",
       "104662         brewed orange cinnamon coffee        5  2004-11-23      8.0   \n",
       "...                                      ...      ...         ...      ...   \n",
       "534786          white bean and chicken chili       50  2018-01-02      NaN   \n",
       "535104                     fruit loop treats       15  2018-02-06      NaN   \n",
       "535650      mexican style pickled vegetables      210  2018-04-19      NaN   \n",
       "535389                    vietnamese chicken       50  2018-03-20     10.0   \n",
       "536747                    lemon pom pom cake      210  2018-08-15     51.0   \n",
       "\n",
       "                                              description  n_ingredients  \\\n",
       "id                                                                         \n",
       "118667  from my collection of recipes. haven't tried i...           12.0   \n",
       "140850  a neighbor brought these over as a thank-you g...           10.0   \n",
       "91938   my husband's great aunt make this for him all ...            NaN   \n",
       "100626  this meal is one we always eat too much of. i ...            5.0   \n",
       "104662  i've had this recipe for at least 8 years. it ...            NaN   \n",
       "...                                                   ...            ...   \n",
       "534786  most recipes for white bean and chicken chilie...           11.0   \n",
       "535104  fruity, slightly elevated, ridiculously easy a...            NaN   \n",
       "535650  spicy chiles and sweet carrots make these pick...           13.0   \n",
       "535389                    vietnamese chicken with ginger.           11.0   \n",
       "536747  by far one of my most joyous cake creations, t...           20.0   \n",
       "\n",
       "          username sex  contributor_id  \n",
       "id                                      \n",
       "118667     laura16   M            1535  \n",
       "140850     laura16   M            1535  \n",
       "91938      laura16   M            1535  \n",
       "100626     laura16   M            1535  \n",
       "104662     laura16   M            1535  \n",
       "...            ...  ..             ...  \n",
       "534786      fcline   F      2001896867  \n",
       "535104  ugutierrez   M      2001968497  \n",
       "535650  ugutierrez   M      2001968497  \n",
       "535389   anthony87   M      2002059754  \n",
       "536747    martin01   F      2002247884  \n",
       "\n",
       "[14941 rows x 9 columns]"
      ]
     },
     "execution_count": 35,
     "metadata": {},
     "output_type": "execute_result"
    }
   ],
   "source": [
    "recipes = pd.read_csv(\"recipes_sample.csv\")\n",
    "general_df = pd.merge(recipes.set_index('contributor_id'), contributors_df.set_index('id'), how='right', left_index=True, right_index=True)\n",
    "general_df['contributor_id'] = general_df.index\n",
    "general_df = general_df.set_index('id')\n",
    "print('Information missing for {0} people'.format(len(recipes) - len(general_df)))\n",
    "general_df"
   ]
  },
  {
   "cell_type": "markdown",
   "metadata": {},
   "source": [
    "### pickle"
   ]
  },
  {
   "cell_type": "markdown",
   "metadata": {},
   "source": [
    "2.1 На основе файла `contributors_sample.json` создайте словарь следующего вида: \n",
    "```\n",
    "{\n",
    "    должность: [список username людей, занимавших эту должность]\n",
    "}\n",
    "```"
   ]
  },
  {
   "cell_type": "markdown",
   "metadata": {},
   "source": [
    "2.2 Сохраните результаты в файл `job_people.pickle` и в файл `job_people.json` с использованием форматов pickle и JSON соответственно. Сравните объемы получившихся файлов. При сохранении в JSON укажите аргумент `indent`."
   ]
  },
  {
   "cell_type": "markdown",
   "metadata": {},
   "source": [
    "2.3 Считайте файл `job_people.pickle` и продемонстрируйте, что данные считались корректно. "
   ]
  },
  {
   "cell_type": "markdown",
   "metadata": {},
   "source": [
    "### XML"
   ]
  },
  {
   "cell_type": "markdown",
   "metadata": {},
   "source": [
    "3.1 По данным файла `steps_sample.xml` сформируйте словарь с шагами по каждому рецепту вида `{id_рецепта: [\"шаг1\", \"шаг2\"]}`. Сохраните этот словарь в файл `steps_sample.json`"
   ]
  },
  {
   "cell_type": "markdown",
   "metadata": {},
   "source": [
    "3.2 По данным файла `steps_sample.xml` сформируйте словарь следующего вида: `кол-во_шагов_в_рецепте: [список_id_рецептов]`"
   ]
  },
  {
   "cell_type": "markdown",
   "metadata": {},
   "source": [
    "3.3 Получите список рецептов, в этапах выполнения которых есть информация о времени (часы или минуты). Для отбора подходящих рецептов обратите внимание на атрибуты соответствующих тэгов."
   ]
  },
  {
   "cell_type": "markdown",
   "metadata": {},
   "source": [
    "3.4 Загрузите данные из файла `recipes_sample.csv` (__ЛР2__) в таблицу `recipes`. Для строк, которые содержат пропуски в столбце `n_steps`, заполните этот столбец на основе файла  `steps_sample.xml`. Строки, в которых столбец `n_steps` заполнен, оставьте без изменений."
   ]
  },
  {
   "cell_type": "markdown",
   "metadata": {},
   "source": [
    "3.5 Проверьте, содержит ли столбец `n_steps` пропуски. Если нет, то преобразуйте его к целочисленному типу и сохраните результаты в файл `recipes_sample_with_filled_nsteps.csv`"
   ]
  },
  {
   "cell_type": "code",
   "execution_count": null,
   "metadata": {},
   "outputs": [],
   "source": []
  }
 ],
 "metadata": {
  "kernelspec": {
   "display_name": "Python 3",
   "language": "python",
   "name": "python3"
  },
  "language_info": {
   "codemirror_mode": {
    "name": "ipython",
    "version": 3
   },
   "file_extension": ".py",
   "mimetype": "text/x-python",
   "name": "python",
   "nbconvert_exporter": "python",
   "pygments_lexer": "ipython3",
   "version": "3.8.5"
  }
 },
 "nbformat": 4,
 "nbformat_minor": 4
}
